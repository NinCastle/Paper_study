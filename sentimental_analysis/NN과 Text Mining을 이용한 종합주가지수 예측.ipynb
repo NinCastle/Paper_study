{
 "cells": [
  {
   "cell_type": "markdown",
   "metadata": {},
   "source": [
    "# NN과 Text Mining을 이용한 종합주가지수 예측"
   ]
  },
  {
   "cell_type": "markdown",
   "metadata": {},
   "source": [
    "종합 주가의 상승과 하락을 예측하는데 중점, 매수와 매도에 대한 의사결정에 활용"
   ]
  },
  {
   "cell_type": "markdown",
   "metadata": {},
   "source": [
    "## 데이터\n",
    "헤럴드 경제 뉴스  \n",
    "기간: 2011.1.1 ~ 2014.6.30  \n",
    "666일 기준 총 2175건"
   ]
  },
  {
   "cell_type": "markdown",
   "metadata": {},
   "source": [
    "## 긍부정 사전생성  \n",
    "* 극성긍부정으로 설정   \n",
    "* 빈도 3이하 단어 제거  \n",
    "* 키워드의 긍부정 강도 = 출현시 상승횟수 + 하락횟수 / 키워드 출현 빈도"
   ]
  },
  {
   "cell_type": "markdown",
   "metadata": {},
   "source": [
    "## 뉴스 감성판별\n",
    "긍부정 단어 사전을 기반으로 \n",
    "1. 긍부정 단어 출현 빈도 기반 방법\n",
    "    - 긍정단어가 많으면 긍정적 뉴스\n",
    "    - 부정단어가 많으면 부정적 뉴스      \n",
    "    - 뉴스 극성 = 긍정 단어 수 - 부정 단어 수\n",
    "  \n",
    "2. 긍부정 강도와 출현 빈도 기반 방법: 긍부정 지수\n",
    "    - 긍정 단어의 강도가 임계값 이상 긍정뉴스 이하 부정뉴스\n",
    "    - 뉴스 긍부정 강도 = 긍정 단어의 강도 합 - 부정 단어의 강도 합  "
   ]
  },
  {
   "cell_type": "markdown",
   "metadata": {},
   "source": [
    "# 긍부정사전 종류\n",
    "예측의 정확도를 비교하기 위해 3가지 감성사전 이용\n",
    "1. 한국어 긍부정 사전 통합\n",
    "2. 뉴스기반 사전\n",
    "3. 한국어 긍부정 사전 + 뉴스기반 사전(중복제거)"
   ]
  },
  {
   "cell_type": "markdown",
   "metadata": {},
   "source": [
    "## 지수예측\n",
    "사전과 극성분석방법과 극성 판별을 위한 임계값을 다양하게 변화시키면서 주가지수를 예측함  \n",
    "  \n",
    "①한국어 감성 사전 + 긍부정 출현 빈도 + 임계값 0  \n",
    "②한국어 감성 사전 + 긍부정 지수 + 임계값 0  \n",
    "③뉴스 감성 사전 + 긍부정 지수 + 임계값 0  \n",
    "④통합 감성 사전 + 긍부정 지수 + 임계값 0  \n",
    "⑤한국어 감성 사전 + 긍부정 지수 + 임계값 -0.1  \n",
    "....  "
   ]
  },
  {
   "cell_type": "markdown",
   "metadata": {},
   "source": [
    "## 결과\n",
    "train 뉴스 감성 사전 + 긍부정 지수 (11.01~13.12)\n",
    "\n",
    "> 정확도 70.12%\n",
    "\n",
    "test 뉴스 감성 사전 + 긍부정 지수 (14.01~06)\n",
    "\n",
    "> 정확도 54.55%"
   ]
  }
 ],
 "metadata": {
  "kernelspec": {
   "display_name": "text3.5",
   "language": "python",
   "name": "text3.5"
  },
  "language_info": {
   "codemirror_mode": {
    "name": "ipython",
    "version": 3
   },
   "file_extension": ".py",
   "mimetype": "text/x-python",
   "name": "python",
   "nbconvert_exporter": "python",
   "pygments_lexer": "ipython3",
   "version": "3.5.5"
  }
 },
 "nbformat": 4,
 "nbformat_minor": 2
}
